{
  "nbformat": 4,
  "nbformat_minor": 0,
  "metadata": {
    "colab": {
      "provenance": [],
      "authorship_tag": "ABX9TyPBMVpAScwU2jidTzqKsrsm"
    },
    "kernelspec": {
      "name": "python3",
      "display_name": "Python 3"
    },
    "language_info": {
      "name": "python"
    }
  },
  "cells": [
    {
      "cell_type": "code",
      "execution_count": null,
      "metadata": {
        "id": "JN6a4TFNWpnO"
      },
      "outputs": [],
      "source": [
        "comidas=['Quesadillas','Enchiladas','Torta','Burrito','Gorditas']\n",
        "bebidas=['Jugo naranja','Coca cola','Boing','Pepsi','Manzanita']\n",
        "falum=[]\n",
        "\n",
        "def captura():\n",
        "    val=input(\"->\")\n",
        "    return val\n",
        "\n",
        "def menu():\n",
        "    op=0\n",
        "    while op!=5:\n",
        "        print(\"\\n**Elegir Opcion**\")\n",
        "        print(\"1. Agregar alumnos a fila\\n2. Servir Comida alumno\\n3. Preparar comidad\\n4. Preparar bebida\\n5. Salir\")\n",
        "        op=int(captura())\n",
        "        if op==1:\n",
        "            alumc()\n",
        "        elif op==2:\n",
        "            servir()\n",
        "        elif op==3:\n",
        "            comida()\n",
        "        elif op==4:\n",
        "            bebida()\n",
        "\n",
        "def alumc():\n",
        "    print(\"Numero de alumnos a agregar a la fila\")\n",
        "    n=int(captura())\n",
        "    for i in range(0,n):\n",
        "        print(\"Nombre alumno\",i+1,\"\")\n",
        "        nom=captura()\n",
        "        falum.append(nom)\n",
        "\n",
        "def servir():\n",
        "    if len(falum)>=1 and len(comidas)>=1 and len(bebidas)>=1:\n",
        "        print(\"Al alumno {0} se le sirvio {1} de comida y {2} de bebida\".format(falum[0],bebidas[0],comidas[0]))\n",
        "        comidas.reverse()\n",
        "        bebidas.reverse()\n",
        "        falum.reverse()\n",
        "        comidas.pop()\n",
        "        bebidas.pop()\n",
        "        falum.pop()\n",
        "        comidas.reverse()\n",
        "        bebidas.reverse()\n",
        "        falum.reverse()\n",
        "    else:\n",
        "        print(\"***ERROR***\")\n",
        "        print(\"Hay\",len(falum),\"alumnos en fila\")\n",
        "        print(\"Hay\", len(comidas), \"comidas en fila\")\n",
        "        print(\"Hay\", len(bebidas), \"bebidas en fila\")\n",
        "\n",
        "def comida():\n",
        "    print(\"Numero de comidas a preparar\")\n",
        "    n=int(captura())\n",
        "    for i in range(0,n):\n",
        "        print(\"Comida preparada\",i+1,\":\")\n",
        "        nom=captura()\n",
        "        comidas.append(nom)\n",
        "\n",
        "def bebida():\n",
        "    print(\"Numero de bebidad a preparar\")\n",
        "    n=int(captura())\n",
        "    for i in range(0,n):\n",
        "        print(\"Bebida preparada\",i+1,\":\")\n",
        "        nom=captura()\n",
        "        bebidas.append(nom)\n",
        "\n",
        "menu()"
      ]
    }
  ]
}