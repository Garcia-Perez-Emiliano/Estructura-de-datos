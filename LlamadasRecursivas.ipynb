{
  "nbformat": 4,
  "nbformat_minor": 0,
  "metadata": {
    "colab": {
      "provenance": [],
      "authorship_tag": "ABX9TyNX5I3wXyCDCS0f5MO8GCIz",
      "include_colab_link": true
    },
    "kernelspec": {
      "name": "python3",
      "display_name": "Python 3"
    },
    "language_info": {
      "name": "python"
    }
  },
  "cells": [
    {
      "cell_type": "markdown",
      "metadata": {
        "id": "view-in-github",
        "colab_type": "text"
      },
      "source": [
        "<a href=\"https://colab.research.google.com/github/Garcia-Perez-Emiliano/Estructura-de-datos/blob/main/LlamadasRecursivas.ipynb\" target=\"_parent\"><img src=\"https://colab.research.google.com/assets/colab-badge.svg\" alt=\"Open In Colab\"/></a>"
      ]
    },
    {
      "cell_type": "code",
      "execution_count": 25,
      "metadata": {
        "colab": {
          "base_uri": "https://localhost:8080/"
        },
        "id": "dvFmTN2_a9BX",
        "outputId": "8c99834f-f0e7-4304-fe93-9680c64de3aa"
      },
      "outputs": [
        {
          "output_type": "stream",
          "name": "stdout",
          "text": [
            "\n",
            "¿De qué color es una naranja?\n",
            "->rojo\n",
            "Fallaste intentalo de nuevo\n",
            "\n",
            "¿De qué color es una naranja?\n",
            "->azul\n",
            "Fallaste intentalo de nuevo\n",
            "\n",
            "¿De qué color es una naranja?\n",
            "->amarillo\n",
            "Perdiste\n"
          ]
        }
      ],
      "source": [
        "def jugar(intento=1):\n",
        "    print(\"\\n¿De qué color es una naranja?\")\n",
        "    respuesta=input(\"->\")\n",
        "    if respuesta!=\"naranja\":\n",
        "        if intento <3:\n",
        "            print(\"Fallaste intentalo de nuevo\")\n",
        "            intento+=1\n",
        "            jugar(intento)\n",
        "        else:\n",
        "            print(\"Perdiste\")\n",
        "    else:\n",
        "        print(\"Ganaste\")\n",
        "jugar()"
      ]
    },
    {
      "cell_type": "code",
      "source": [
        "def imprimir(x):\n",
        "    if x>0:\n",
        "        print(x)\n",
        "        imprimir(x-1)\n",
        "imprimir(5)"
      ],
      "metadata": {
        "colab": {
          "base_uri": "https://localhost:8080/"
        },
        "id": "DQjUWM_hbH7F",
        "outputId": "d5b6c68f-e17d-4b12-e2e7-19d452ba0ed9"
      },
      "execution_count": 26,
      "outputs": [
        {
          "output_type": "stream",
          "name": "stdout",
          "text": [
            "5\n",
            "4\n",
            "3\n",
            "2\n",
            "1\n"
          ]
        }
      ]
    },
    {
      "cell_type": "code",
      "source": [
        "def imprimir(x):\n",
        "    if x>0:\n",
        "        imprimir(x-1)\n",
        "        print(x)\n",
        "imprimir(5)"
      ],
      "metadata": {
        "colab": {
          "base_uri": "https://localhost:8080/"
        },
        "id": "WFbmIImEbcTp",
        "outputId": "5e320986-6be0-4ca7-a13d-2fa161d049a9"
      },
      "execution_count": 27,
      "outputs": [
        {
          "output_type": "stream",
          "name": "stdout",
          "text": [
            "1\n",
            "2\n",
            "3\n",
            "4\n",
            "5\n"
          ]
        }
      ]
    },
    {
      "cell_type": "markdown",
      "source": [
        "Factorial"
      ],
      "metadata": {
        "id": "0fRFTZycdQM7"
      }
    },
    {
      "cell_type": "code",
      "source": [
        "def factorial(fact):\n",
        "  if fact>0:\n",
        "    valor=fact*factorial(fact-1)\n",
        "    return valor\n",
        "  else:\n",
        "    return 1\n",
        "print(f\"El factorial de {5} es {factorial(5)}\")"
      ],
      "metadata": {
        "colab": {
          "base_uri": "https://localhost:8080/"
        },
        "id": "ACApZsC_dRYr",
        "outputId": "0b3b5338-2f55-497c-8e7d-55fa118bec95"
      },
      "execution_count": 28,
      "outputs": [
        {
          "output_type": "stream",
          "name": "stdout",
          "text": [
            "El factorial de 5 es 120\n"
          ]
        }
      ]
    },
    {
      "cell_type": "markdown",
      "source": [
        "Ordenar"
      ],
      "metadata": {
        "id": "SmVehS4AhpQa"
      }
    },
    {
      "cell_type": "code",
      "source": [
        "def ordenar(lista,cant):\n",
        "    if cant>1:\n",
        "        for f in range(0,cant-1):\n",
        "            if lista[f]>lista[f+1]:\n",
        "                aux=lista[f]\n",
        "                lista[f]=lista[f+1]\n",
        "                lista[f+1]=aux\n",
        "            ordenar(lista,cant-1)\n",
        "datos=[60,44,22,33,2]\n",
        "print(datos)\n",
        "ordenar(datos,len(datos))\n",
        "print(datos)"
      ],
      "metadata": {
        "colab": {
          "base_uri": "https://localhost:8080/"
        },
        "id": "E_S0_1CIhslI",
        "outputId": "918e465b-e8ec-4935-adc4-1cd7491ec3ed"
      },
      "execution_count": 29,
      "outputs": [
        {
          "output_type": "stream",
          "name": "stdout",
          "text": [
            "[60, 44, 22, 33, 2]\n",
            "[2, 22, 33, 44, 60]\n"
          ]
        }
      ]
    }
  ]
}