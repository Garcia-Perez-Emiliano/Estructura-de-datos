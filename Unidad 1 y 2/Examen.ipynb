{
  "nbformat": 4,
  "nbformat_minor": 0,
  "metadata": {
    "colab": {
      "provenance": [],
      "authorship_tag": "ABX9TyPUx7NI37YnWIL6G16+kKiL",
      "include_colab_link": true
    },
    "kernelspec": {
      "name": "python3",
      "display_name": "Python 3"
    },
    "language_info": {
      "name": "python"
    }
  },
  "cells": [
    {
      "cell_type": "markdown",
      "metadata": {
        "id": "view-in-github",
        "colab_type": "text"
      },
      "source": [
        "<a href=\"https://colab.research.google.com/github/Garcia-Perez-Emiliano/Estructura-de-datos/blob/main/Examen.ipynb\" target=\"_parent\"><img src=\"https://colab.research.google.com/assets/colab-badge.svg\" alt=\"Open In Colab\"/></a>"
      ]
    },
    {
      "cell_type": "code",
      "execution_count": 1,
      "metadata": {
        "colab": {
          "base_uri": "https://localhost:8080/"
        },
        "id": "HYSYrPC0Tsa7",
        "outputId": "cac585af-58fd-48c8-b426-aaa0967fc88c"
      },
      "outputs": [
        {
          "output_type": "stream",
          "name": "stdout",
          "text": [
            "[1, 2, 3]\n",
            "[4, 5, 6]\n",
            "[7, 8, 9]\n",
            "[10, 11, 12]\n",
            "\n",
            "\n",
            "[12, 11, 10]\n",
            "[9, 8, 7]\n",
            "[6, 5, 4]\n",
            "[3, 2, 1]\n",
            "\n",
            "\n",
            "[1, 2, 3]\n",
            "[10, 11, 4]\n",
            "[9, 12, 5]\n",
            "[8, 7, 6]\n"
          ]
        }
      ],
      "source": [
        "class Examen:\n",
        "\n",
        "    def __init__(self):\n",
        "        self.f1=[]\n",
        "        self.f2=[]\n",
        "        self.f3=[]\n",
        "        self.f4=[]\n",
        "        self.axu=[]\n",
        "\n",
        "    def normal(self, n=1):\n",
        "        if n<4:\n",
        "            self.f1.append(n)\n",
        "            n+=1\n",
        "            self.normal(n)\n",
        "        elif n<7:\n",
        "            self.f2.append(n)\n",
        "            n+=1\n",
        "            self.normal(n)\n",
        "        elif n<10:\n",
        "            self.f3.append(n)\n",
        "            n+=1\n",
        "            self.normal(n)\n",
        "        elif n<13:\n",
        "            self.f4.append(n)\n",
        "            n+=1\n",
        "            self.normal(n)\n",
        "        else:\n",
        "            print(self.f1)\n",
        "            print(self.f2)\n",
        "            print(self.f3)\n",
        "            print(self.f4)\n",
        "            print(\"\\n\")\n",
        "\n",
        "    def inversa(self):\n",
        "        self.f1.reverse()\n",
        "        self.f2.reverse()\n",
        "        self.f3.reverse()\n",
        "        self.f4.reverse()\n",
        "        print(self.f4)\n",
        "        print(self.f3)\n",
        "        print(self.f2)\n",
        "        print(self.f1)\n",
        "        print(\"\\n\")\n",
        "        self.f1.reverse()\n",
        "        self.f2.reverse()\n",
        "        self.f3.reverse()\n",
        "        self.f4.reverse()\n",
        "\n",
        "    def caracol(self):\n",
        "        if len(self.axu)>9:#123\n",
        "            self.axu.pop()\n",
        "            self.caracol()\n",
        "        elif len(self.axu)>7:#45\n",
        "            self.f2[2]=self.axu.pop()\n",
        "            self.f3[2]=self.axu.pop()\n",
        "            self.caracol()\n",
        "        elif len(self.axu)>4:#678\n",
        "            for j in range(0,3):\n",
        "                self.f4.pop()\n",
        "            for i in range(0,3):\n",
        "                self.f4.append(self.axu.pop())\n",
        "            self.f4.reverse()\n",
        "            self.caracol()\n",
        "        elif len(self.axu)>2: #910\n",
        "            self.f3[0] = self.axu.pop()\n",
        "            self.f2[0] = self.axu.pop()\n",
        "            self.caracol()\n",
        "        elif len(self.axu)>0: #1112\n",
        "            self.f2[1] = self.axu.pop()\n",
        "            self.f3[1] = self.axu.pop()\n",
        "            self.caracol()\n",
        "        else:\n",
        "            print(self.f1)\n",
        "            print(self.f2)\n",
        "            print(self.f3)\n",
        "            print(self.f4)\n",
        "\n",
        "    def ayuda(self):\n",
        "        self.axu.extend(self.f1)\n",
        "        self.axu.extend(self.f2)\n",
        "        self.axu.extend(self.f3)\n",
        "        self.axu.extend(self.f4)\n",
        "        self.axu.reverse()\n",
        "\n",
        "a=Examen()\n",
        "a.normal()\n",
        "a.inversa()\n",
        "a.ayuda()\n",
        "a.caracol()"
      ]
    }
  ]
}
