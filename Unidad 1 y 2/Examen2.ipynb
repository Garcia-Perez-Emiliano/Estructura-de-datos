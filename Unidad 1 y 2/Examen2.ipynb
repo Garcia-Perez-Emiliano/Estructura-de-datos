{
  "nbformat": 4,
  "nbformat_minor": 0,
  "metadata": {
    "colab": {
      "provenance": [],
      "authorship_tag": "ABX9TyN7z61DkJ+A4rrVNt4PXtrY",
      "include_colab_link": true
    },
    "kernelspec": {
      "name": "python3",
      "display_name": "Python 3"
    },
    "language_info": {
      "name": "python"
    }
  },
  "cells": [
    {
      "cell_type": "markdown",
      "metadata": {
        "id": "view-in-github",
        "colab_type": "text"
      },
      "source": [
        "<a href=\"https://colab.research.google.com/github/Garcia-Perez-Emiliano/Estructura-de-datos/blob/main/Examen2.ipynb\" target=\"_parent\"><img src=\"https://colab.research.google.com/assets/colab-badge.svg\" alt=\"Open In Colab\"/></a>"
      ]
    },
    {
      "cell_type": "code",
      "execution_count": 2,
      "metadata": {
        "colab": {
          "base_uri": "https://localhost:8080/"
        },
        "id": "ovVCUleIUfEQ",
        "outputId": "1bc08bde-1e0d-42d3-9e25-3254ab9759f2"
      },
      "outputs": [
        {
          "output_type": "stream",
          "name": "stdout",
          "text": [
            "\n",
            "Numero 1\n",
            "->1\n",
            "Numero 2\n",
            "->2\n",
            "Ninguno es correcto\n",
            "\n",
            "Numero 1\n",
            "->3\n",
            "Numero 2\n",
            "->4\n",
            "El numero 4 es correcto\n",
            "\n",
            "Numero 1\n",
            "->4\n",
            "Numero 2\n",
            "->5\n",
            "Numeros en el lugar incorrecto\n",
            "\n",
            "Numero 1\n",
            "->5\n",
            "Numero 2\n",
            "->4\n",
            "Numeros acertados\n",
            "[5, 4]\n"
          ]
        }
      ],
      "source": [
        "import random\n",
        "\n",
        "class ExamenNumeros:\n",
        "    def __init__(self):\n",
        "        self.numeros = [random.randint(1, 10), random.randint(1, 10)]\n",
        "\n",
        "    def imprimir(self):\n",
        "        print(self.numeros)\n",
        "\n",
        "    def adivinar(self):\n",
        "        print(\"\\nNumero 1\")\n",
        "        a=self.captura()\n",
        "        print(\"Numero 2\")\n",
        "        b=self.captura()\n",
        "        self.comparacion(a,b)\n",
        "\n",
        "    def comparacion(self,a,b):\n",
        "        if a==self.numeros[0] and b==self.numeros[1]:\n",
        "            print(\"Numeros acertados\")\n",
        "            self.imprimir()\n",
        "        elif a==self.numeros[0] or b==self.numeros[1]:\n",
        "            if  a==self.numeros[0]:\n",
        "                print(f\"El numero {a} es correcto\")\n",
        "                self.adivinar()\n",
        "            else:\n",
        "                print(f\"El numero {b} es correcto\")\n",
        "                self.adivinar()\n",
        "        elif b==self.numeros[0] or a==self.numeros[1]:\n",
        "            if b==self.numeros[0] and a==self.numeros[1]:\n",
        "                print(\"Numeros en el lugar incorrecto\")\n",
        "                self.adivinar()\n",
        "            elif b==self.numeros[0]:\n",
        "                print(f\"El numero {b} no esta en su lugar\")\n",
        "                self.adivinar()\n",
        "            elif a==self.numeros[1]:\n",
        "                print(f\"El numero {a} no esta en su lugar\")\n",
        "                self.adivinar()\n",
        "        else:\n",
        "            print(\"Ninguno es correcto\")\n",
        "            self.adivinar()\n",
        "\n",
        "    def captura(self):\n",
        "        val = int(input(\"->\"))\n",
        "        return val\n",
        "\n",
        "b=ExamenNumeros()\n",
        "#b.imprimir()\n",
        "b.adivinar()"
      ]
    }
  ]
}
