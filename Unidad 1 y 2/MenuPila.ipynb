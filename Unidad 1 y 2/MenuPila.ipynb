{
  "nbformat": 4,
  "nbformat_minor": 0,
  "metadata": {
    "colab": {
      "provenance": [],
      "authorship_tag": "ABX9TyNltYyU3QtnTj3KJs06lk7A"
    },
    "kernelspec": {
      "name": "python3",
      "display_name": "Python 3"
    },
    "language_info": {
      "name": "python"
    }
  },
  "cells": [
    {
      "cell_type": "code",
      "execution_count": null,
      "metadata": {
        "id": "XxMc4H179apZ"
      },
      "outputs": [],
      "source": [
        "class MPila:\n",
        "    def __init__(self):\n",
        "        self.items=[]\n",
        "\n",
        "    def apilar(self,x):\n",
        "        self.items.append(x)\n",
        "\n",
        "    def despilar(self):\n",
        "        try:\n",
        "            return self.items.pop()\n",
        "        except IndexError:\n",
        "            raise ValueError(\"La pila esta vacia\")\n",
        "\n",
        "    def es_vacia(self):\n",
        "        return self.items==[]\n",
        "\n",
        "    def imprimir(self):\n",
        "        print(\"*********\")\n",
        "        reversed_items = (reversed(self.items))\n",
        "        for item in reversed_items:\n",
        "            print(str(item))\n",
        "\n",
        "    def menu(self):\n",
        "        p=MPila()\n",
        "        op=0\n",
        "        while op!=5:\n",
        "            print(\"*********\")\n",
        "            print(\"1. Apilar\\n2. Despilar\\n3. Estado de pila vacio o lleno\\n 4.Imprimr\\n5. Salir\")\n",
        "            op=int(input(\"->\"))\n",
        "            if op==1:\n",
        "                print(\"Dato a apilar\")\n",
        "                dato=input(\"->\")\n",
        "                p.apilar(dato)\n",
        "            elif op==2:\n",
        "                p.despilar()\n",
        "            elif op==3:\n",
        "                estado=p.es_vacia()\n",
        "                if estado==True:\n",
        "                    print(\"La pila esta vacia\")\n",
        "                else:\n",
        "                    print(\"La pila NO esta vacia\")\n",
        "            elif op==4:\n",
        "                p.imprimir()\n",
        "            elif op==5:\n",
        "                print(\"---Hasta la proxima---\")"
      ]
    }
  ]
}
