{
  "nbformat": 4,
  "nbformat_minor": 0,
  "metadata": {
    "colab": {
      "provenance": [],
      "authorship_tag": "ABX9TyNeA+jPB4W2C3w8KRo1P9vD"
    },
    "kernelspec": {
      "name": "python3",
      "display_name": "Python 3"
    },
    "language_info": {
      "name": "python"
    }
  },
  "cells": [
    {
      "cell_type": "code",
      "execution_count": null,
      "metadata": {
        "id": "tVVFfYrCHP_b"
      },
      "outputs": [],
      "source": [
        "class Pila:\n",
        "    def __init__(self):\n",
        "        self.items=[]\n",
        "\n",
        "    def apilar(self,x):\n",
        "        self.items.append(x)\n",
        "\n",
        "    def despilar(self):\n",
        "        try:\n",
        "            return self.items.pop()\n",
        "        except IndexError:\n",
        "            raise ValueError(\"La pila esta vacia\")\n",
        "\n",
        "    def es_vacia(self):\n",
        "        return print(self.items==[])\n",
        "\n",
        "    def imprimir(self):\n",
        "        print(\"*********\")\n",
        "        reversed_items = (reversed(self.items))\n",
        "        for item in reversed_items:\n",
        "            print(str(item))\n",
        "\"\"\"\n",
        "p=Pila()\n",
        "p.es_vacia()\n",
        "p.apilar(1)\n",
        "p.es_vacia()\n",
        "p.imprimir()\n",
        "p.apilar(5)\n",
        "p.apilar(\"+\")\n",
        "p.apilar(22)\n",
        "p.imprimir()\n",
        "p.despilar()\n",
        "p.imprimir()\n",
        "\"\"\""
      ]
    }
  ]
}
