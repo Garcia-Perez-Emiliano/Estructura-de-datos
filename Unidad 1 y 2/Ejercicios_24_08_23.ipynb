{
  "nbformat": 4,
  "nbformat_minor": 0,
  "metadata": {
    "colab": {
      "provenance": [],
      "authorship_tag": "ABX9TyPxPlMmtCpC1FRnpZ75dbo2",
      "include_colab_link": true
    },
    "kernelspec": {
      "name": "python3",
      "display_name": "Python 3"
    },
    "language_info": {
      "name": "python"
    }
  },
  "cells": [
    {
      "cell_type": "markdown",
      "metadata": {
        "id": "view-in-github",
        "colab_type": "text"
      },
      "source": [
        "<a href=\"https://colab.research.google.com/github/Garcia-Perez-Emiliano/Estructura-de-datos/blob/main/Ejercicios_24_08_23.ipynb\" target=\"_parent\"><img src=\"https://colab.research.google.com/assets/colab-badge.svg\" alt=\"Open In Colab\"/></a>"
      ]
    },
    {
      "cell_type": "markdown",
      "source": [
        "Arrays"
      ],
      "metadata": {
        "id": "0PNRcKWMQbrD"
      }
    },
    {
      "cell_type": "code",
      "execution_count": 21,
      "metadata": {
        "colab": {
          "base_uri": "https://localhost:8080/"
        },
        "id": "KLxIZ99oQa1E",
        "outputId": "0a863db6-00a4-4a3b-f387-654f8d9ef6d1"
      },
      "outputs": [
        {
          "output_type": "stream",
          "name": "stdout",
          "text": [
            "['pan', 'huevos', 100, 1234]\n",
            "pan\n",
            "1234\n",
            "100\n",
            "4\n",
            "4\n",
            "pan\n",
            "['pan', 'carne', 100, 1234]\n",
            "['pan', 'carne', ['jamon', '56'], 1234]\n",
            "4\n"
          ]
        }
      ],
      "source": [
        "factura = ['pan','huevos',100,1234]\n",
        "print(factura)\n",
        "print(factura[0])\n",
        "print(factura[3])\n",
        "print(factura[-2])\n",
        "print(len(factura))\n",
        "print(len(factura)-0)\n",
        "print(factura [-len(factura)])\n",
        "factura[1]=\"carne\"\n",
        "print(factura)\n",
        "factura[2]=['jamon','56']\n",
        "print(factura)\n",
        "print(len(factura))"
      ]
    },
    {
      "cell_type": "markdown",
      "source": [
        "Append()"
      ],
      "metadata": {
        "id": "3jj2DQ4rVv-m"
      }
    },
    {
      "cell_type": "code",
      "source": [
        "versiones_plone = [2.5,3.6,4,5]\n",
        "print(versiones_plone)\n",
        "versiones_plone.append(6)\n",
        "print(versiones_plone)\n",
        "versiones_plone.append('gorditas')\n",
        "versiones_plone.append(['leche',123])\n",
        "print(versiones_plone)\n",
        "versiones_plone.append(['chocolate',['cereal','juan']])\n",
        "print(versiones_plone)"
      ],
      "metadata": {
        "colab": {
          "base_uri": "https://localhost:8080/"
        },
        "id": "WurihPPNVzrX",
        "outputId": "fb6890e5-f7e5-4473-e1e5-f19aac2be513"
      },
      "execution_count": 29,
      "outputs": [
        {
          "output_type": "stream",
          "name": "stdout",
          "text": [
            "[2.5, 3.6, 4, 5]\n",
            "[2.5, 3.6, 4, 5, 6]\n",
            "[2.5, 3.6, 4, 5, 6, 'gorditas', ['leche', 123]]\n",
            "[2.5, 3.6, 4, 5, 6, 'gorditas', ['leche', 123], ['chocolate', ['cereal', 'juan']]]\n"
          ]
        }
      ]
    },
    {
      "cell_type": "markdown",
      "source": [
        "count()"
      ],
      "metadata": {
        "id": "A__H_7K0YTBz"
      }
    },
    {
      "cell_type": "code",
      "source": [
        "versiones_plone = [2.1,2.5,3.6,4,5,6]\n",
        "print (\"6 ->\",versiones_plone.count(6))\n",
        "print (\"5 ->\",versiones_plone.count(5))\n",
        "print (\"2.5 ->\",versiones_plone.count(2.5))"
      ],
      "metadata": {
        "colab": {
          "base_uri": "https://localhost:8080/"
        },
        "id": "6Sk6d3YvYWzC",
        "outputId": "768c2e19-8892-49d0-b4ed-cdc210b5d6b0"
      },
      "execution_count": 31,
      "outputs": [
        {
          "output_type": "stream",
          "name": "stdout",
          "text": [
            "6 -> 1\n",
            "5 -> 1\n",
            "2.5 -> 1\n"
          ]
        }
      ]
    },
    {
      "cell_type": "markdown",
      "source": [
        "extend()"
      ],
      "metadata": {
        "id": "t9l-wLrdY-cb"
      }
    },
    {
      "cell_type": "code",
      "source": [
        "versiones_plone = [2.1,2.5,3.6]\n",
        "print (versiones_plone)\n",
        "versiones_plone.extend([4])\n",
        "print (versiones_plone)\n",
        "versiones_plone.extend(range(5,7))\n",
        "print (versiones_plone)\n",
        "versiones_plone.extend(range(7,11))\n",
        "print (versiones_plone)\n",
        "versiones_plone.extend(range(20,11))\n",
        "print (versiones_plone)"
      ],
      "metadata": {
        "colab": {
          "base_uri": "https://localhost:8080/"
        },
        "id": "qhebCAAaZBIS",
        "outputId": "6ac7869b-b3f6-447c-bb03-ee3b7f54529a"
      },
      "execution_count": 34,
      "outputs": [
        {
          "output_type": "stream",
          "name": "stdout",
          "text": [
            "[2.1, 2.5, 3.6]\n",
            "[2.1, 2.5, 3.6, 4]\n",
            "[2.1, 2.5, 3.6, 4, 5, 6]\n",
            "[2.1, 2.5, 3.6, 4, 5, 6, 7, 8, 9, 10]\n",
            "[2.1, 2.5, 3.6, 4, 5, 6, 7, 8, 9, 10]\n"
          ]
        }
      ]
    }
  ]
}
