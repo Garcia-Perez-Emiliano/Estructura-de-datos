{
  "nbformat": 4,
  "nbformat_minor": 0,
  "metadata": {
    "colab": {
      "provenance": [],
      "authorship_tag": "ABX9TyNVd+Ef9kUc5ub1jzxm1pfS"
    },
    "kernelspec": {
      "name": "python3",
      "display_name": "Python 3"
    },
    "language_info": {
      "name": "python"
    }
  },
  "cells": [
    {
      "cell_type": "code",
      "execution_count": 1,
      "metadata": {
        "colab": {
          "base_uri": "https://localhost:8080/"
        },
        "id": "9Qng5KEg9uWu",
        "outputId": "c449f709-1ed4-47e3-94bf-87724e39d67a"
      },
      "outputs": [
        {
          "output_type": "stream",
          "name": "stdout",
          "text": [
            "Ingrese la expresion a evaluar: 4 5 +\n",
            "DEBUG: 4\n",
            "DEBUG: apila, 4.0\n",
            "DEBUG: 5\n",
            "DEBUG: apila, 5.0\n",
            "DEBUG: +\n",
            "DEBUG: desapila, 5.0\n",
            "DEBUG: desapila, 4.0\n",
            "DEBUG: apila 9.0\n",
            "9.0\n"
          ]
        }
      ],
      "source": [
        "class Pila:\n",
        "    def __init__(self):\n",
        "        self.items=[]\n",
        "\n",
        "    def apilar(self,x):\n",
        "        self.items.append(x)\n",
        "\n",
        "    def despilar(self):\n",
        "        try:\n",
        "            return self.items.pop()\n",
        "        except IndexError:\n",
        "            raise ValueError(\"La pila esta vacia\")\n",
        "\n",
        "    def es_vacia(self):\n",
        "        return self.items==[]\n",
        "\n",
        "    def imprimir(self):\n",
        "        print(\"*********\")\n",
        "        reversed_items = (reversed(self.items))\n",
        "        for item in reversed_items:\n",
        "            print(str(item))\n",
        "\n",
        "def calculadora_polaca(elementos):\n",
        "    p=Pila()\n",
        "    for elemento in elementos:\n",
        "        print(\"DEBUG:\",elemento)\n",
        "        try:\n",
        "            numero=float(elemento)\n",
        "            p.apilar(numero)\n",
        "            print(\"DEBUG: apila,\",numero)\n",
        "        except ValueError:\n",
        "            if elemento not in \"+-*/%\" or len(elemento)!=1:\n",
        "                raise ValueError(\"Operando invalido\")\n",
        "            try:\n",
        "                a1=p.despilar()\n",
        "                print(\"DEBUG: desapila,\",a1)\n",
        "                a2=p.despilar()\n",
        "                print(\"DEBUG: desapila,\",a2)\n",
        "            except ValueError:\n",
        "                print(\"DEBUG: error pila faltan operandos\")\n",
        "                raise ValueError(\"Faltan operandos\")\n",
        "            if elemento=='+':\n",
        "                resultado=a2+a1\n",
        "            elif elemento=='-':\n",
        "                resultado=a2-a1\n",
        "            elif elemento=='*':\n",
        "                resultado=a2*a1\n",
        "            elif elemento=='/':\n",
        "                resultado=a2/a1\n",
        "            elif elemento=='%':\n",
        "                resultado=a2%a1\n",
        "            print(\"DEBUG: apila\",resultado)\n",
        "            p.apilar(resultado)\n",
        "    res=p.despilar()\n",
        "    if p.es_vacia():\n",
        "        return res\n",
        "    else:\n",
        "        print(\"DEBUG: error pila sobran operandos\")\n",
        "        raise ValueError(\"Sobran operandos\")\n",
        "\n",
        "def main():\n",
        "    expresion=input(\"Ingrese la expresion a evaluar: \")\n",
        "    elementos=expresion.split()\n",
        "    print(calculadora_polaca(elementos))\n",
        "\n",
        "main()"
      ]
    }
  ]
}
