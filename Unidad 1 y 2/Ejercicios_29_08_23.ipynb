{
  "nbformat": 4,
  "nbformat_minor": 0,
  "metadata": {
    "colab": {
      "provenance": [],
      "authorship_tag": "ABX9TyPccgPXgSPQ/jbVEmJPXml8"
    },
    "kernelspec": {
      "name": "python3",
      "display_name": "Python 3"
    },
    "language_info": {
      "name": "python"
    }
  },
  "cells": [
    {
      "cell_type": "markdown",
      "source": [
        "Arrays"
      ],
      "metadata": {
        "id": "0PNRcKWMQbrD"
      }
    },
    {
      "cell_type": "code",
      "execution_count": null,
      "metadata": {
        "colab": {
          "base_uri": "https://localhost:8080/"
        },
        "id": "KLxIZ99oQa1E",
        "outputId": "0a863db6-00a4-4a3b-f387-654f8d9ef6d1"
      },
      "outputs": [
        {
          "output_type": "stream",
          "name": "stdout",
          "text": [
            "['pan', 'huevos', 100, 1234]\n",
            "pan\n",
            "1234\n",
            "100\n",
            "4\n",
            "4\n",
            "pan\n",
            "['pan', 'carne', 100, 1234]\n",
            "['pan', 'carne', ['jamon', '56'], 1234]\n",
            "4\n"
          ]
        }
      ],
      "source": [
        "factura = ['pan','huevos',100,1234]\n",
        "print(factura)\n",
        "print(factura[0])\n",
        "print(factura[3])\n",
        "print(factura[-2])\n",
        "print(len(factura))\n",
        "print(len(factura)-0)\n",
        "print(factura [-len(factura)])\n",
        "factura[1]=\"carne\"\n",
        "print(factura)\n",
        "factura[2]=['jamon','56']\n",
        "print(factura)\n",
        "print(len(factura))"
      ]
    },
    {
      "cell_type": "markdown",
      "source": [
        "Append()"
      ],
      "metadata": {
        "id": "3jj2DQ4rVv-m"
      }
    },
    {
      "cell_type": "code",
      "source": [
        "versiones_plone = [2.5,3.6,4,5]\n",
        "print(versiones_plone)\n",
        "versiones_plone.append(6)\n",
        "print(versiones_plone)\n",
        "versiones_plone.append('gorditas')\n",
        "versiones_plone.append(['leche',123])\n",
        "print(versiones_plone)\n",
        "versiones_plone.append(['chocolate',['cereal','juan']])\n",
        "print(versiones_plone)"
      ],
      "metadata": {
        "colab": {
          "base_uri": "https://localhost:8080/"
        },
        "id": "WurihPPNVzrX",
        "outputId": "fb6890e5-f7e5-4473-e1e5-f19aac2be513"
      },
      "execution_count": null,
      "outputs": [
        {
          "output_type": "stream",
          "name": "stdout",
          "text": [
            "[2.5, 3.6, 4, 5]\n",
            "[2.5, 3.6, 4, 5, 6]\n",
            "[2.5, 3.6, 4, 5, 6, 'gorditas', ['leche', 123]]\n",
            "[2.5, 3.6, 4, 5, 6, 'gorditas', ['leche', 123], ['chocolate', ['cereal', 'juan']]]\n"
          ]
        }
      ]
    },
    {
      "cell_type": "markdown",
      "source": [
        "count()"
      ],
      "metadata": {
        "id": "A__H_7K0YTBz"
      }
    },
    {
      "cell_type": "code",
      "source": [
        "versiones_plone = [2.1,2.5,3.6,4,5,6]\n",
        "print (\"6 ->\",versiones_plone.count(6))\n",
        "print (\"5 ->\",versiones_plone.count(5))\n",
        "print (\"2.5 ->\",versiones_plone.count(2.5))"
      ],
      "metadata": {
        "colab": {
          "base_uri": "https://localhost:8080/"
        },
        "id": "6Sk6d3YvYWzC",
        "outputId": "768c2e19-8892-49d0-b4ed-cdc210b5d6b0"
      },
      "execution_count": null,
      "outputs": [
        {
          "output_type": "stream",
          "name": "stdout",
          "text": [
            "6 -> 1\n",
            "5 -> 1\n",
            "2.5 -> 1\n"
          ]
        }
      ]
    },
    {
      "cell_type": "markdown",
      "source": [
        "extend()"
      ],
      "metadata": {
        "id": "t9l-wLrdY-cb"
      }
    },
    {
      "cell_type": "code",
      "source": [
        "versiones_plone = [2.1,2.5,3.6]\n",
        "print (versiones_plone)\n",
        "versiones_plone.extend([4])\n",
        "print (versiones_plone)\n",
        "versiones_plone.extend(range(5,7))\n",
        "print (versiones_plone)\n",
        "versiones_plone.extend(range(7,11))\n",
        "print (versiones_plone)\n",
        "versiones_plone.extend(range(20,11))\n",
        "print (versiones_plone)"
      ],
      "metadata": {
        "colab": {
          "base_uri": "https://localhost:8080/"
        },
        "id": "qhebCAAaZBIS",
        "outputId": "0205b21c-c723-4778-f9ca-6c43ced37f86"
      },
      "execution_count": 2,
      "outputs": [
        {
          "output_type": "stream",
          "name": "stdout",
          "text": [
            "[2.1, 2.5, 3.6]\n",
            "[2.1, 2.5, 3.6, 4]\n",
            "[2.1, 2.5, 3.6, 4, 5, 6]\n",
            "[2.1, 2.5, 3.6, 4, 5, 6, 7, 8, 9, 10]\n",
            "[2.1, 2.5, 3.6, 4, 5, 6, 7, 8, 9, 10]\n"
          ]
        }
      ]
    },
    {
      "cell_type": "markdown",
      "source": [
        "index()"
      ],
      "metadata": {
        "id": "KmDaWCgS3eGm"
      }
    },
    {
      "cell_type": "code",
      "source": [
        "versiones_plone = [2.1,2.5,3.6,4,5,6,4]\n",
        "print(versiones_plone.index(4))\n",
        "print(versiones_plone.index(4,2))\n",
        "print(versiones_plone.index(4,5))\n",
        "print(versiones_plone.index(6,2))\n",
        "print(versiones_plone.index(4,6))\n",
        "print(versiones_plone.index(6,1))\n",
        "#print(versiones_plone.index(9)) 9 is not in list\n",
        "versiones_plone.insert(2,3.7)\n",
        "print(versiones_plone)\n",
        "versiones_plone.insert(7,666)\n",
        "print(versiones_plone)"
      ],
      "metadata": {
        "colab": {
          "base_uri": "https://localhost:8080/"
        },
        "id": "mivbXs853gNg",
        "outputId": "d236dac7-04ff-4079-c5fc-da69bb0cd5b2"
      },
      "execution_count": 20,
      "outputs": [
        {
          "output_type": "stream",
          "name": "stdout",
          "text": [
            "3\n",
            "3\n",
            "6\n",
            "5\n",
            "6\n",
            "5\n",
            "[2.1, 2.5, 3.7, 3.6, 4, 5, 6, 4]\n",
            "[2.1, 2.5, 3.7, 3.6, 4, 5, 6, 666, 4]\n"
          ]
        }
      ]
    },
    {
      "cell_type": "markdown",
      "source": [
        "pop()"
      ],
      "metadata": {
        "id": "av0dsrkw-72L"
      }
    },
    {
      "cell_type": "code",
      "source": [
        "versiones_plone = [2.1,2.5,3.6,4,5,6]\n",
        "print(versiones_plone.pop())\n",
        "print(versiones_plone)\n",
        "print(versiones_plone.pop(2))\n",
        "print(versiones_plone)\n",
        "print(versiones_plone.pop(-1))\n",
        "print(versiones_plone)"
      ],
      "metadata": {
        "colab": {
          "base_uri": "https://localhost:8080/"
        },
        "id": "cuYtaK3p-_Cq",
        "outputId": "d6d25499-fd48-4a9c-dd5b-b2f003a6a7ed"
      },
      "execution_count": 25,
      "outputs": [
        {
          "output_type": "stream",
          "name": "stdout",
          "text": [
            "6\n",
            "[2.1, 2.5, 3.6, 4, 5]\n",
            "3.6\n",
            "[2.1, 2.5, 4, 5]\n",
            "5\n",
            "[2.1, 2.5, 4]\n"
          ]
        }
      ]
    },
    {
      "cell_type": "markdown",
      "source": [
        "remove()"
      ],
      "metadata": {
        "id": "6jnEkWTKA8jU"
      }
    },
    {
      "cell_type": "code",
      "source": [
        "versiones_plone = [2.1,2.5,3.6,4,5,6]\n",
        "versiones_plone.remove(2.5)\n",
        "print(versiones_plone)"
      ],
      "metadata": {
        "colab": {
          "base_uri": "https://localhost:8080/"
        },
        "id": "25oAOvhkA-6_",
        "outputId": "ce7f2fcf-61a0-4194-fd9c-e1224d952792"
      },
      "execution_count": 29,
      "outputs": [
        {
          "output_type": "stream",
          "name": "stdout",
          "text": [
            "[2.1, 3.6, 4, 5, 6]\n"
          ]
        }
      ]
    },
    {
      "cell_type": "markdown",
      "source": [
        "reverse()"
      ],
      "metadata": {
        "id": "lrAcV23BBhGC"
      }
    },
    {
      "cell_type": "code",
      "source": [
        "versiones_plone = [2.1,2.5,3.6,4,5,6]\n",
        "versiones_plone.reverse()\n",
        "print(versiones_plone)"
      ],
      "metadata": {
        "colab": {
          "base_uri": "https://localhost:8080/"
        },
        "id": "dcnTU5RpBk9Q",
        "outputId": "0cf11e17-3064-436c-fa24-9e578da74d86"
      },
      "execution_count": 30,
      "outputs": [
        {
          "output_type": "stream",
          "name": "stdout",
          "text": [
            "[6, 5, 4, 3.6, 2.5, 2.1]\n"
          ]
        }
      ]
    },
    {
      "cell_type": "markdown",
      "source": [
        "sort()"
      ],
      "metadata": {
        "id": "cWqMADcZB97M"
      }
    },
    {
      "cell_type": "code",
      "source": [
        "versiones_plone = [4,2.5,5,3.6,2.1,6]\n",
        "print(versiones_plone)\n",
        "versiones_plone.sort()\n",
        "print(versiones_plone)\n",
        "versiones_plone.sort(reverse=True)\n",
        "print(versiones_plone)\n",
        "versiones_plone2 = ['a','f','y','m','w','t','o']\n",
        "print(versiones_plone2)\n",
        "versiones_plone2.sort()\n",
        "print(versiones_plone2)"
      ],
      "metadata": {
        "colab": {
          "base_uri": "https://localhost:8080/"
        },
        "id": "f0iFUXsmCA8R",
        "outputId": "c8dff6cc-20bf-4a26-d38c-5fa5860f056c"
      },
      "execution_count": 39,
      "outputs": [
        {
          "output_type": "stream",
          "name": "stdout",
          "text": [
            "[4, 2.5, 5, 3.6, 2.1, 6]\n",
            "[2.1, 2.5, 3.6, 4, 5, 6]\n",
            "[6, 5, 4, 3.6, 2.5, 2.1]\n",
            "['a', 'f', 'y', 'm', 'w', 't', 'o']\n",
            "['a', 'f', 'm', 'o', 't', 'w', 'y']\n"
          ]
        }
      ]
    },
    {
      "cell_type": "code",
      "source": [
        "vocales='aeiou'\n",
        "for letra in 'murcielago':\n",
        "  if letra in vocales:\n",
        "    print(letra)"
      ],
      "metadata": {
        "colab": {
          "base_uri": "https://localhost:8080/"
        },
        "id": "4ykp6cCtE-X3",
        "outputId": "1758c444-19ea-4031-b188-c32ed573efff"
      },
      "execution_count": 43,
      "outputs": [
        {
          "output_type": "stream",
          "name": "stdout",
          "text": [
            "u\n",
            "i\n",
            "e\n",
            "a\n",
            "o\n"
          ]
        }
      ]
    },
    {
      "cell_type": "markdown",
      "source": [
        "split()"
      ],
      "metadata": {
        "id": "vWfdfvvrHP8y"
      }
    },
    {
      "cell_type": "code",
      "source": [
        "mensaje='Hola, como estas tu?'\n",
        "print(mensaje.split())\n",
        "for palabra in mensaje.split():\n",
        "  print(palabra)"
      ],
      "metadata": {
        "colab": {
          "base_uri": "https://localhost:8080/"
        },
        "id": "n8RKWkqOHSjZ",
        "outputId": "c30b6b7c-8735-4e65-d2f2-d8c85a8f49e8"
      },
      "execution_count": 48,
      "outputs": [
        {
          "output_type": "stream",
          "name": "stdout",
          "text": [
            "['Hola,', 'como', 'estas', 'tu?']\n",
            "Hola,\n",
            "como\n",
            "estas\n",
            "tu?\n"
          ]
        }
      ]
    },
    {
      "cell_type": "code",
      "source": [
        "preguntas=['nombre','objetivo','sistema operativo']\n",
        "respuestas=['LEONARDO','aprender Python y Plone','Linux']\n",
        "for preguntas, respuestas in zip(preguntas,respuestas):\n",
        "  print(\"\\n¿Cual es tu {0}? \\nla respuesta es:{1}\".format(preguntas,respuestas))"
      ],
      "metadata": {
        "colab": {
          "base_uri": "https://localhost:8080/"
        },
        "id": "6dXJfvFAIYJ8",
        "outputId": "42951593-a4d9-4d98-b027-4af276ce78fb"
      },
      "execution_count": 55,
      "outputs": [
        {
          "output_type": "stream",
          "name": "stdout",
          "text": [
            "\n",
            "¿Cual es tu nombre? \n",
            "la respuesta es:LEONARDO\n",
            "\n",
            "¿Cual es tu objetivo? \n",
            "la respuesta es:aprender Python y Plone\n",
            "\n",
            "¿Cual es tu sistema operativo? \n",
            "la respuesta es:Linux\n"
          ]
        }
      ]
    }
  ]
}
