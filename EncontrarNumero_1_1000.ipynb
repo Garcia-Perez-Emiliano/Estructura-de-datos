{
  "nbformat": 4,
  "nbformat_minor": 0,
  "metadata": {
    "colab": {
      "provenance": [],
      "authorship_tag": "ABX9TyOZip+eDFOdq91pfAwtnW43",
      "include_colab_link": true
    },
    "kernelspec": {
      "name": "python3",
      "display_name": "Python 3"
    },
    "language_info": {
      "name": "python"
    }
  },
  "cells": [
    {
      "cell_type": "markdown",
      "metadata": {
        "id": "view-in-github",
        "colab_type": "text"
      },
      "source": [
        "<a href=\"https://colab.research.google.com/github/Garcia-Perez-Emiliano/Estructura-de-datos/blob/main/EncontrarNumero_1_1000.ipynb\" target=\"_parent\"><img src=\"https://colab.research.google.com/assets/colab-badge.svg\" alt=\"Open In Colab\"/></a>"
      ]
    },
    {
      "cell_type": "code",
      "execution_count": 1,
      "metadata": {
        "colab": {
          "base_uri": "https://localhost:8080/"
        },
        "id": "8eQWWkPUcxQ9",
        "outputId": "30750e12-012a-494b-856e-1bd53892d275"
      },
      "outputs": [
        {
          "output_type": "stream",
          "name": "stdout",
          "text": [
            "Ingresa el numero a adivinar\n",
            "->500\n",
            "\n",
            "Intento 1 Fallaste intentalo de nuevo\n",
            "El numero es menor\n",
            "Ingresa el numero a adivinar\n",
            "->250\n",
            "\n",
            "Intento 2 Fallaste intentalo de nuevo\n",
            "El numero es menor\n",
            "Ingresa el numero a adivinar\n",
            "->125\n",
            "\n",
            "Intento 3 Fallaste intentalo de nuevo\n",
            "El numero es menor\n",
            "Ingresa el numero a adivinar\n",
            "->63\n",
            "\n",
            "Intento 4 Fallaste intentalo de nuevo\n",
            "El numero es menor\n",
            "Ingresa el numero a adivinar\n",
            "->31\n",
            "\n",
            "Intento 5 Fallaste intentalo de nuevo\n",
            "El numero es menor\n",
            "Ingresa el numero a adivinar\n",
            "->15\n",
            "\n",
            "Intento 6 Fallaste intentalo de nuevo\n",
            "El numero es mayor\n",
            "Ingresa el numero a adivinar\n",
            "->22\n",
            "Ganaste en  7 intentos\n"
          ]
        }
      ],
      "source": [
        "import random\n",
        "class Jugar:\n",
        "    def __init__(self):\n",
        "        self.num= random.randint(1, 1000)\n",
        "\n",
        "    def encontarnumero(self,intento=1):\n",
        "        print(\"Ingresa el numero a adivinar\")\n",
        "        respuesta = int(input(\"->\"))\n",
        "        if respuesta!= self.num:\n",
        "            if intento <=10:\n",
        "                print(\"\\nIntento\",intento,\"Fallaste intentalo de nuevo\")\n",
        "                if respuesta>self.num:\n",
        "                    print(\"El numero es menor\")\n",
        "                else:\n",
        "                    print(\"El numero es mayor\")\n",
        "                intento+=1\n",
        "                a1.encontarnumero(intento)\n",
        "            else:\n",
        "                print(\"Perdiste numero NO encontrado\")\n",
        "        else:\n",
        "            print(\"Ganaste en \",intento,\"intentos\")\n",
        "\n",
        "a1=Jugar()\n",
        "a1.encontarnumero()"
      ]
    }
  ]
}