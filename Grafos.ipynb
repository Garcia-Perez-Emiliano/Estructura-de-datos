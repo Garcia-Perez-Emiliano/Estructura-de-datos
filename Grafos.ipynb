{
  "nbformat": 4,
  "nbformat_minor": 0,
  "metadata": {
    "colab": {
      "provenance": [],
      "authorship_tag": "ABX9TyM382VvB/tE3vnaJ24BAhpo",
      "include_colab_link": true
    },
    "kernelspec": {
      "name": "python3",
      "display_name": "Python 3"
    },
    "language_info": {
      "name": "python"
    }
  },
  "cells": [
    {
      "cell_type": "markdown",
      "metadata": {
        "id": "view-in-github",
        "colab_type": "text"
      },
      "source": [
        "<a href=\"https://colab.research.google.com/github/Garcia-Perez-Emiliano/Estructura-de-datos/blob/main/Grafos.ipynb\" target=\"_parent\"><img src=\"https://colab.research.google.com/assets/colab-badge.svg\" alt=\"Open In Colab\"/></a>"
      ]
    },
    {
      "cell_type": "code",
      "execution_count": 1,
      "metadata": {
        "colab": {
          "base_uri": "https://localhost:8080/"
        },
        "id": "LURYAigojIK3",
        "outputId": "8180412e-8e8b-4cfd-abcb-b9eeb670a3e8"
      },
      "outputs": [
        {
          "output_type": "stream",
          "name": "stdout",
          "text": [
            "['e', 'd', 'c', 'a']\n"
          ]
        }
      ],
      "source": [
        "class Grafo(object):\n",
        "\n",
        "    def __init__(self):\n",
        "        self.relaciones = {}\n",
        "\n",
        "    def __str__(self):\n",
        "        return str(self.relaciones)\n",
        "\n",
        "class Arista(object):\n",
        "\n",
        "    def __init__(self, elemento, peso):\n",
        "        self.elemento = elemento\n",
        "        self.peso = peso\n",
        "\n",
        "    def __str__(self):\n",
        "        return str(self.elemento) + str(self.peso)\n",
        "\n",
        "def agregar(grafo, elemento):\n",
        "    grafo.relaciones.update({elemento:[]})\n",
        "\n",
        "def relacionar(grafo, elemento1, elemento2, peso = 1):\n",
        "    relacionarUnilateral(grafo, elemento1, elemento2, peso)\n",
        "    relacionarUnilateral(grafo, elemento2, elemento1, peso)\n",
        "\n",
        "def relacionarUnilateral(grafo, origen, destino, peso):\n",
        "    grafo.relaciones[origen].append(Arista(destino, peso))\n",
        "\n",
        "def caminoMinimo(grafo, origen, destino):\n",
        "    etiquetas = {origen:(0,None)}\n",
        "    dijkstra(grafo, destino, etiquetas, [])\n",
        "    return construirCamino(etiquetas, origen, destino)\n",
        "\n",
        "def construirCamino(etiquetas, origen, destino):\n",
        "    if origen == destino:\n",
        "        return [destino]\n",
        "    return construirCamino(etiquetas, origen, anterior(etiquetas[destino]))+ [destino]\n",
        "\n",
        "def dijkstra(grafo, destino, etiquetas, procesados):\n",
        "    nodoActual = menorValorNoProcesado(etiquetas, procesados)\n",
        "    if nodoActual == destino:\n",
        "        return\n",
        "    procesados.append(nodoActual)\n",
        "    for vecino in vecinoNoProcesado(grafo, nodoActual, procesados):\n",
        "        generarEtiqueta(grafo, vecino, nodoActual, etiquetas)\n",
        "    dijkstra(grafo, destino, etiquetas, procesados)\n",
        "\n",
        "def generarEtiqueta(grafo, nodo, anterior, etiquetas):\n",
        "    etiquetaNodoAnterior = etiquetas[anterior]\n",
        "    etiquetaPropuesta = peso(grafo, anterior, nodo)+ acumulado(etiquetaNodoAnterior),anterior\n",
        "    if nodo not in etiquetas or acumulado(etiquetaPropuesta)<acumulado(etiquetas[nodo]):\n",
        "        etiquetas.update({nodo:etiquetaPropuesta})\n",
        "\n",
        "def aristas(grafo, nodo):\n",
        "    return grafo.relaciones[nodo]\n",
        "\n",
        "def vecinoNoProcesado(grafo, nodo, procesados):\n",
        "    aristasDeVecinosNoProcesados = filter(lambda x: not x in procesados,aristas(grafo,nodo))\n",
        "    return [arista.elemento for arista in aristasDeVecinosNoProcesados]\n",
        "\n",
        "def peso(grafo, nodoOrigen, nodoDestino):\n",
        "    for arista in grafo.relaciones[nodoOrigen]:\n",
        "        if arista.elemento == nodoDestino:\n",
        "            return arista.peso\n",
        "    return None\n",
        "\n",
        "def acumulado(etiqueta):\n",
        "    return etiqueta[0]\n",
        "\n",
        "def anterior(etiqueta):\n",
        "    return etiqueta[1]\n",
        "\n",
        "def menorValorNoProcesado(etiquetas, procesados):\n",
        "    etiquetadosSinProcesar = [nodo for nodo,acumulado in etiquetas.items() if nodo not in procesados]\n",
        "    return min(etiquetadosSinProcesar, key=lambda nodo:etiquetas[nodo][0])[0]\n",
        "\n",
        "a = \"a\"\n",
        "b = \"b\"\n",
        "c = \"c\"\n",
        "d = \"d\"\n",
        "e = \"e\"\n",
        "f = \"f\"\n",
        "g = \"g\"\n",
        "h = \"h\"\n",
        "grafo = Grafo()\n",
        "agregar(grafo, a)\n",
        "agregar(grafo, b)\n",
        "agregar(grafo, c)\n",
        "agregar(grafo, d)\n",
        "agregar(grafo, e)\n",
        "agregar(grafo, f)\n",
        "agregar(grafo, g)\n",
        "agregar(grafo, h)\n",
        "relacionar(grafo, a, c, 1)\n",
        "relacionar(grafo, a, b, 3)\n",
        "relacionar(grafo, b, d, 1)\n",
        "relacionar(grafo, b, g, 5)\n",
        "relacionar(grafo, c, f, 5)\n",
        "relacionar(grafo, c, d, 2)\n",
        "relacionar(grafo, d, f, 2)\n",
        "relacionar(grafo, d, e, 4)\n",
        "relacionar(grafo, e, h, 1)\n",
        "relacionar(grafo, e, g, 2)\n",
        "relacionar(grafo, f, h, 3)\n",
        "print(caminoMinimo(grafo, e, a))"
      ]
    }
  ]
}