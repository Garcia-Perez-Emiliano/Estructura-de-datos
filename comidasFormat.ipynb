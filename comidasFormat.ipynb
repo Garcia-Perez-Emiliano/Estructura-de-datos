{
  "nbformat": 4,
  "nbformat_minor": 0,
  "metadata": {
    "colab": {
      "provenance": [],
      "authorship_tag": "ABX9TyNd/V8ARHCEupB/JshnXBYi"
    },
    "kernelspec": {
      "name": "python3",
      "display_name": "Python 3"
    },
    "language_info": {
      "name": "python"
    }
  },
  "cells": [
    {
      "cell_type": "code",
      "execution_count": null,
      "metadata": {
        "id": "6ZjMfsGpV3Y_"
      },
      "outputs": [],
      "source": [
        "comidas=['Quesadillas','Enchiladas','Torta','Burrito','Gorditas']\n",
        "bebidas=['Jugo naranja','Coca cola','Boing','Pepsi','Manzanita']\n",
        "falum=[\"Pepe\",\"Juan\",\"Anita\",\"Tania\",\"Silvestre\"]\n",
        "\n",
        "for i in range(0,len(falum)):\n",
        "    print(\"Al alumno {0} se le sirvio {1} de comida y {2} de bebida\".format(falum[0],bebidas[0],comidas[0]))\n",
        "    comidas.reverse()\n",
        "    bebidas.reverse()\n",
        "    falum.reverse()\n",
        "    comidas.pop()\n",
        "    bebidas.pop()\n",
        "    falum.pop()\n",
        "    comidas.reverse()\n",
        "    bebidas.reverse()\n",
        "    falum.reverse()"
      ]
    }
  ]
}