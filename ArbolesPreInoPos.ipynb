{
  "nbformat": 4,
  "nbformat_minor": 0,
  "metadata": {
    "colab": {
      "provenance": [],
      "authorship_tag": "ABX9TyNx773ym92KwL4w/c76CVR6",
      "include_colab_link": true
    },
    "kernelspec": {
      "name": "python3",
      "display_name": "Python 3"
    },
    "language_info": {
      "name": "python"
    }
  },
  "cells": [
    {
      "cell_type": "markdown",
      "metadata": {
        "id": "view-in-github",
        "colab_type": "text"
      },
      "source": [
        "<a href=\"https://colab.research.google.com/github/Garcia-Perez-Emiliano/Estructura-de-datos/blob/main/ArbolesPreInoPos.ipynb\" target=\"_parent\"><img src=\"https://colab.research.google.com/assets/colab-badge.svg\" alt=\"Open In Colab\"/></a>"
      ]
    },
    {
      "cell_type": "code",
      "execution_count": 6,
      "metadata": {
        "colab": {
          "base_uri": "https://localhost:8080/"
        },
        "id": "A-mL7olzVWw6",
        "outputId": "9ccba9aa-41a9-4dbd-ac4f-513ed15e58cf"
      },
      "outputs": [
        {
          "output_type": "stream",
          "name": "stdout",
          "text": [
            "\n",
            "**Preorden**\n",
            "Juanp\n",
            "Pepe\n",
            "Luis\n",
            "Jose\n",
            "Erik\n",
            "\n",
            "**Inorder**\n",
            "Luis\n",
            "Pepe\n",
            "Jose\n",
            "Juanp\n",
            "Erik\n",
            "\n",
            "**Postorder**\n",
            "Luis\n",
            "Jose\n",
            "Pepe\n",
            "Erik\n",
            "Juanp\n"
          ]
        }
      ],
      "source": [
        "class Node:\n",
        "\n",
        "    def __init__(self, data):\n",
        "        self.left = None\n",
        "        self.right = None\n",
        "        self.data = data\n",
        "\n",
        "    def preorder(self, node):\n",
        "        if node:\n",
        "            print(node.data)\n",
        "            self.preorder(node.left)\n",
        "            self.preorder(node.right)\n",
        "\n",
        "    def inorder(self, node):\n",
        "        if node:\n",
        "            self.inorder(node.left)\n",
        "            print(node.data)\n",
        "            self.inorder(node.right)\n",
        "\n",
        "    def postorder(self, node):\n",
        "        if node:\n",
        "            self.postorder(node.left)\n",
        "            self.postorder(node.right)\n",
        "            print(node.data)\n",
        "\n",
        "\n",
        "root = Node(\"Juanp\")\n",
        "root.left = Node(\"Pepe\")\n",
        "root.right = Node(\"Erik\")\n",
        "root.left.left = Node(\"Luis\")\n",
        "root.left.right = Node(\"Jose\")\n",
        "print(\"\\n**Preorden**\")\n",
        "root.preorder(root)\n",
        "print(\"\\n**Inorder**\")\n",
        "root.inorder(root)\n",
        "print(\"\\n**Postorder**\")\n",
        "root.postorder(root)"
      ]
    }
  ]
}