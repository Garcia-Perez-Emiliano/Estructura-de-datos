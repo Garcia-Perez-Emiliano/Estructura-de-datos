{
  "nbformat": 4,
  "nbformat_minor": 0,
  "metadata": {
    "colab": {
      "provenance": [],
      "authorship_tag": "ABX9TyPSejwvmDlDtzX4NJByuhR6",
      "include_colab_link": true
    },
    "kernelspec": {
      "name": "python3",
      "display_name": "Python 3"
    },
    "language_info": {
      "name": "python"
    }
  },
  "cells": [
    {
      "cell_type": "markdown",
      "metadata": {
        "id": "view-in-github",
        "colab_type": "text"
      },
      "source": [
        "<a href=\"https://colab.research.google.com/github/Garcia-Perez-Emiliano/Estructura-de-datos/blob/main/Mini_Alexa.ipynb\" target=\"_parent\"><img src=\"https://colab.research.google.com/assets/colab-badge.svg\" alt=\"Open In Colab\"/></a>"
      ]
    },
    {
      "cell_type": "code",
      "execution_count": null,
      "metadata": {
        "id": "vPZPHHRBr66B"
      },
      "outputs": [],
      "source": [
        "import speech_recognition as sr\n",
        "\n",
        "recognizer = sr.Recognizer()\n",
        "mic = sr.Microphone()\n",
        "with mic as source:\n",
        "    print(\"->\")\n",
        "    audio = recognizer.listen(source)\n",
        "try:\n",
        "    text = recognizer.recognize_google(audio, language=\"es-MX\")\n",
        "    print(f\"Se dijo: {text}\")\n",
        "except Exception as e:\n",
        "    print(f\"Error: {e}\")\n",
        "    text = None\n",
        "if text==None:\n",
        "    print(\"No entendi nada\")\n",
        "else:\n",
        "    pepe = text.split()\n",
        "    _1=['pepe','activa','fiesta']\n",
        "    _2=['pepe','cuenta','chiste']\n",
        "    _3=['pepe','enciende','cuarto']\n",
        "    _4=['pepe','apaga','cuarto']\n",
        "    _5=['pepe','hora','es']\n",
        "    if any(a in pepe for a in _1):\n",
        "        print(\"Activando el modo fiesta\")\n",
        "    elif any(a in pepe for a in _2):\n",
        "        print(\"¿Cuál es el colmo de un peluquero? Descubrir que en la vida nada es permanente.\")\n",
        "    elif any(a in pepe for a in _3):\n",
        "        print(\"Luz activada\")\n",
        "    elif any(a in pepe for a in _4):\n",
        "        print(\"Luz desactivada\")\n",
        "    elif any(a in pepe for a in _5):\n",
        "        print(\"Son aproximademente las nueve de la mañana Mexico\")"
      ]
    }
  ]
}
