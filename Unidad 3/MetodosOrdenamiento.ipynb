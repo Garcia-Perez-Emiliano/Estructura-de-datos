{
  "nbformat": 4,
  "nbformat_minor": 0,
  "metadata": {
    "colab": {
      "provenance": [],
      "authorship_tag": "ABX9TyPTujQE8vNppQzN9VaqTnz0",
      "include_colab_link": true
    },
    "kernelspec": {
      "name": "python3",
      "display_name": "Python 3"
    },
    "language_info": {
      "name": "python"
    }
  },
  "cells": [
    {
      "cell_type": "markdown",
      "metadata": {
        "id": "view-in-github",
        "colab_type": "text"
      },
      "source": [
        "<a href=\"https://colab.research.google.com/github/Garcia-Perez-Emiliano/Estructura-de-datos/blob/main/MetodosOrdenamiento.ipynb\" target=\"_parent\"><img src=\"https://colab.research.google.com/assets/colab-badge.svg\" alt=\"Open In Colab\"/></a>"
      ]
    },
    {
      "cell_type": "code",
      "execution_count": 5,
      "metadata": {
        "colab": {
          "base_uri": "https://localhost:8080/"
        },
        "id": "LURYAigojIK3",
        "outputId": "00aec389-723c-494d-9f42-f81ff68ec5e9"
      },
      "outputs": [
        {
          "output_type": "stream",
          "name": "stdout",
          "text": [
            "[1, 2, 4, 5, 8]\n",
            "['carlos', 'jose', 'juan', 'pedro', 'pepe']\n",
            "Sin ordenar[5, 2, 1, 8, 4]\n",
            "Ordenar[1, 2, 4, 5, 8]\n",
            "Lista Sin ordenar[5, 2, 1, 8, 4]\n",
            "Lista Ordenar[1, 2, 4, 5, 8]\n",
            "Lista sin ordenar: [5, 2, 1, 8, 4]\n",
            "Lista ordenada: [1, 2, 4, 5, 8]\n"
          ]
        }
      ],
      "source": [
        "def bubbleSort(nums):\n",
        "    intercambio=True\n",
        "    while intercambio:\n",
        "        intercambio=False\n",
        "        for i in range(len(nums)-1):\n",
        "            if nums[i]>nums[i+1]:\n",
        "                nums[i], nums[i + 1] = nums[i+1],nums[i]\n",
        "                intercambio=True\n",
        "\n",
        "def selectionSort(nums):\n",
        "    for i in range(len(nums)):\n",
        "        lowest_value_index=i\n",
        "        for j in range(i+1,len(nums)):\n",
        "            if nums[j]<nums[lowest_value_index]:\n",
        "                lowest_value_index=j\n",
        "        nums[i], nums[lowest_value_index] = nums[lowest_value_index], nums[i]\n",
        "\n",
        "def insertSort(nums):\n",
        "    for i in range(1,len(nums)):\n",
        "        item_to_insert=nums[i]\n",
        "        j=i-1\n",
        "        while j>=0 and nums[j]>item_to_insert:\n",
        "            nums[j+1]=nums[j]\n",
        "            j-=1\n",
        "        nums[j + 1] = item_to_insert\n",
        "\n",
        "def merge(left_list, right_list):\n",
        "    sorted_list = []\n",
        "    left_list_index, right_list_index = 0, 0\n",
        "    left_list_length, right_list_length = len(left_list), len(right_list)\n",
        "    for _ in range(left_list_length + right_list_length):\n",
        "        if left_list_index < left_list_length and right_list_index < right_list_length:\n",
        "            if left_list[left_list_index] <= right_list[right_list_index]:\n",
        "                sorted_list.append(left_list[left_list_index])\n",
        "                left_list_index += 1\n",
        "            else:\n",
        "                sorted_list.append(right_list[right_list_index])\n",
        "                right_list_index += 1\n",
        "        elif left_list_index == left_list_length:\n",
        "            sorted_list.append(right_list[right_list_index])\n",
        "            right_list_index += 1\n",
        "        elif right_list_index == right_list_length:\n",
        "            sorted_list.append(left_list[left_list_index])\n",
        "            left_list_index += 1\n",
        "    return sorted_list\n",
        "\n",
        "\n",
        "def mergeSort(nums):\n",
        "    if len(nums) <= 1:\n",
        "        return nums\n",
        "    mid = len(nums) // 2\n",
        "    left_list = mergeSort(nums[:mid])\n",
        "    right_list = mergeSort(nums[mid:])\n",
        "    return merge(left_list, right_list)\n",
        "\n",
        "\n",
        "\n",
        "listaAleatorios=[5,2,1,8,4]\n",
        "bubbleSort(listaAleatorios)\n",
        "print(listaAleatorios)\n",
        "\n",
        "listaAleatorios=[\"pepe\",\"juan\",\"pedro\",\"carlos\",\"jose\"]\n",
        "bubbleSort(listaAleatorios)\n",
        "print(listaAleatorios)\n",
        "\n",
        "la=[5,2,1,8,4]\n",
        "print(\"Sin ordenar\" + str(la))\n",
        "selectionSort(la)\n",
        "print(\"Ordenar\" + str(la))\n",
        "\n",
        "tla=[5,2,1,8,4]\n",
        "print(\"Lista Sin ordenar\" + str(tla))\n",
        "insertSort(tla)\n",
        "print(\"Lista Ordenar\" + str(tla))\n",
        "\n",
        "lista_numeros_aleatorios = [5, 2, 1, 8, 4]\n",
        "print(\"Lista sin ordenar:\", str(lista_numeros_aleatorios))\n",
        "lista_numeros_aleatorios = mergeSort(lista_numeros_aleatorios)\n",
        "print(\"Lista ordenada:\", str(lista_numeros_aleatorios))"
      ]
    }
  ]
}
