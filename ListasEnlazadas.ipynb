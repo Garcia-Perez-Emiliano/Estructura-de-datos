{
  "nbformat": 4,
  "nbformat_minor": 0,
  "metadata": {
    "colab": {
      "provenance": [],
      "authorship_tag": "ABX9TyM8m97Sh4o4yL0S+Z+GIxQA"
    },
    "kernelspec": {
      "name": "python3",
      "display_name": "Python 3"
    },
    "language_info": {
      "name": "python"
    }
  },
  "cells": [
    {
      "cell_type": "code",
      "execution_count": 3,
      "metadata": {
        "colab": {
          "base_uri": "https://localhost:8080/"
        },
        "id": "4l1JCoEXEFq6",
        "outputId": "5c0b6949-1754-4356-9b04-1be2322b31b4"
      },
      "outputs": [
        {
          "output_type": "stream",
          "name": "stdout",
          "text": [
            "9 -> 5 -> 8 -> "
          ]
        }
      ],
      "source": [
        "#creacion de la clase nodo\n",
        "class node:\n",
        "  def __init__(self, data=None, next=None):\n",
        "    self.data=data\n",
        "    self.next=next\n",
        "\n",
        "#Creacion de la clase lista enlazada\n",
        "class linked_list:\n",
        "  def __init__(self):\n",
        "    self.head=None\n",
        "\n",
        "#Metodo agregar elementos en el frente de la lista enlazada\n",
        "  def add_at_front(self,data):\n",
        "    self.head=node(data=data, next=self.head)\n",
        "\n",
        "#Metodo para verificar si la estructura esta vacia\n",
        "  def is_empty(self):\n",
        "    return self.head==None\n",
        "\n",
        "#Metodo agregar al final de la lista enlazada\n",
        "  def add_at_end(self, data):\n",
        "    if not self.head:\n",
        "      self.head=node(data=data)\n",
        "      return\n",
        "    curr=self.head\n",
        "    while curr.next:\n",
        "      curr=curr.next\n",
        "    curr.next=node(data=data)\n",
        "\n",
        "#Metodo eliminar nodos\n",
        "  def delete_nodo(self,key):\n",
        "    curr=self.head\n",
        "    prev=None\n",
        "    while curr and curr.data!=key:\n",
        "      prev=curr\n",
        "      curr=curr.next\n",
        "    if prev is None:\n",
        "      self.head=curr.next\n",
        "    elif curr:\n",
        "      prev.next=curr.next\n",
        "      curr.next=None\n",
        "\n",
        "#Obtener el ultimo nodo\n",
        "  def get_last_node(self):\n",
        "    temp=self.head\n",
        "    while (temp.next is not None):\n",
        "      temp=temp.next\n",
        "    return temp.data\n",
        "\n",
        "#Imprimir nodos\n",
        "  def print_list(self):\n",
        "    node=self.head\n",
        "    while node!=None:\n",
        "      print(node.data,end=\" -> \")\n",
        "      node=node.next\n",
        "\n",
        "listita=linked_list()\n",
        "listita.add_at_front(5)\n",
        "listita.add_at_end(8)\n",
        "listita.add_at_front(9)\n",
        "listita.print_list()"
      ]
    }
  ]
}