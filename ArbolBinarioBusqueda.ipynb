{
  "nbformat": 4,
  "nbformat_minor": 0,
  "metadata": {
    "colab": {
      "provenance": [],
      "authorship_tag": "ABX9TyMlZYcj0v0cVZW8FmZElcXy",
      "include_colab_link": true
    },
    "kernelspec": {
      "name": "python3",
      "display_name": "Python 3"
    },
    "language_info": {
      "name": "python"
    }
  },
  "cells": [
    {
      "cell_type": "markdown",
      "metadata": {
        "id": "view-in-github",
        "colab_type": "text"
      },
      "source": [
        "<a href=\"https://colab.research.google.com/github/Garcia-Perez-Emiliano/Estructura-de-datos/blob/main/ArbolBinarioBusqueda.ipynb\" target=\"_parent\"><img src=\"https://colab.research.google.com/assets/colab-badge.svg\" alt=\"Open In Colab\"/></a>"
      ]
    },
    {
      "cell_type": "code",
      "execution_count": 1,
      "metadata": {
        "id": "qkTlXpOuidUe"
      },
      "outputs": [],
      "source": [
        "class NodoArbol:\n",
        "    def __init__(self, clave, valor, izquierdo=None, derecho=None, padre=None):\n",
        "        self.clave = clave\n",
        "        self.cargaUtil = valor\n",
        "        self.hijoIzquierdo = izquierdo\n",
        "        self.hijoDerecho = derecho\n",
        "        self.padre = padre\n",
        "\n",
        "    def tieneHijoIzquierdo(self):\n",
        "        return self.hijoIzquierdo\n",
        "\n",
        "    def tieneHijoDerecho(self):\n",
        "        return self.hijoDerecho\n",
        "\n",
        "    def esHijoIzquierdo(self):\n",
        "        return self.padre and self.padre.hijoIzquierdo == self\n",
        "\n",
        "    def esHijoDerecho(self):\n",
        "        return self.padre and self.padre.hijoDerecho == self\n",
        "\n",
        "    def esRaiz(self):\n",
        "        return not self.padre\n",
        "\n",
        "    def esHoja(self):\n",
        "        return not (self.hijoDerecho or self.hijoIzquierdo)\n",
        "\n",
        "    def tieneAlgunHijo(self):\n",
        "        return self.hijoDerecho or self.hijoIzquierdo\n",
        "\n",
        "    def tieneAmbosHijos(self):\n",
        "        return self.hijoDerecho and self.hijoIzquierdo\n",
        "\n",
        "    def reemplazarDatoDeNodo(self, clave, valor, hizq, hder):\n",
        "        self.clave = clave\n",
        "        self.cargaUtil = valor\n",
        "        self.hijoIzquierdo = hizq\n",
        "        self.hijoDerecho = hder\n",
        "        if self.tieneHijoIzquierdo():\n",
        "            self.hijoIzquierdo.padre = self\n",
        "        if self.tieneHijoDerecho():\n",
        "            self.hijoDerecho.padre = self\n",
        "\n",
        "    def encontrarSucesor(self):\n",
        "        suc = None\n",
        "        if self.tieneHijoDerecho():\n",
        "            suc = self.hijoDerecho.encontrarMin()\n",
        "        else:\n",
        "            if self.padre:\n",
        "                if self.esHijoIzquierdo():\n",
        "                    suc = self.padre\n",
        "                else:\n",
        "                    self.padre.hijoDerecho = None\n",
        "                    suc = self.padre.encontrarSucesor()\n",
        "                    self.padre.hijoDerecho = self\n",
        "        return suc\n",
        "\n",
        "    def encontrarMin(self):\n",
        "        actual = self\n",
        "        while actual.tieneHijoIzquierdo():\n",
        "            actual = actual.hijoIzquierdo\n",
        "        return actual\n",
        "\n",
        "    def empalmar(self):\n",
        "        if self.esHoja():\n",
        "            if self.esHijoIzquierdo():\n",
        "                self.padre.hijoIzquierdo = None\n",
        "            else:\n",
        "                self.padre.hijoDerecho = None\n",
        "        elif self.tieneAlgunHijo():\n",
        "            if self.tieneHijoIzquierdo():\n",
        "                if self.esHijoIzquierdo():\n",
        "                    self.padre.hijoIzquierdo = self.hijoIzquierdo\n",
        "                else:\n",
        "                    self.padre.hijoDerecho = self.hijoIzquierdo\n",
        "                self.hijoIzquierdo.padre = self.padre\n",
        "            else:\n",
        "                if self.esHijoIzquierdo():\n",
        "                    self.padre.hijoIzquierdo = self.hijoDerecho\n",
        "                else:\n",
        "                    self.padre.hijoDerecho = self.hijoDerecho\n",
        "                self.hijoDerecho.padre = self.padre"
      ]
    }
  ]
}