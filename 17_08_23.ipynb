{
  "nbformat": 4,
  "nbformat_minor": 0,
  "metadata": {
    "colab": {
      "provenance": [],
      "authorship_tag": "ABX9TyPZSr++ZZO0Im3hzQymiZ1+",
      "include_colab_link": true
    },
    "kernelspec": {
      "name": "python3",
      "display_name": "Python 3"
    },
    "language_info": {
      "name": "python"
    }
  },
  "cells": [
    {
      "cell_type": "markdown",
      "metadata": {
        "id": "view-in-github",
        "colab_type": "text"
      },
      "source": [
        "<a href=\"https://colab.research.google.com/github/Garcia-Perez-Emiliano/Estructura-de-datos/blob/main/17_08_23.ipynb\" target=\"_parent\"><img src=\"https://colab.research.google.com/assets/colab-badge.svg\" alt=\"Open In Colab\"/></a>"
      ]
    },
    {
      "cell_type": "markdown",
      "source": [
        "Mi primer programa"
      ],
      "metadata": {
        "id": "JDHsDp9IEDJH"
      }
    },
    {
      "cell_type": "code",
      "source": [
        "print(\"hola mundo\")"
      ],
      "metadata": {
        "colab": {
          "base_uri": "https://localhost:8080/"
        },
        "id": "pwLzIUxOEsFb",
        "outputId": "d105c84e-c6b8-42d7-c9de-636b24ca6a04"
      },
      "execution_count": null,
      "outputs": [
        {
          "output_type": "stream",
          "name": "stdout",
          "text": [
            "hola mundo\n"
          ]
        }
      ]
    },
    {
      "cell_type": "markdown",
      "source": [
        "Saludo y años"
      ],
      "metadata": {
        "id": "-irGQxBpFDtX"
      }
    },
    {
      "cell_type": "code",
      "source": [
        "nom=input(\"¿Como te llamas?\\n->\")\n",
        "num=int(input(\"¿Cuantos años tienes\\n->\"))\n",
        "print(\"Mucho gusto\",nom,\"con\",num,\"años\")"
      ],
      "metadata": {
        "colab": {
          "base_uri": "https://localhost:8080/"
        },
        "id": "Gu3TtR3aFFc3",
        "outputId": "a90e5188-fd9d-4948-a83f-1d0add3cdff4"
      },
      "execution_count": null,
      "outputs": [
        {
          "output_type": "stream",
          "name": "stdout",
          "text": [
            "¿Como te llamas?\n",
            "->juan\n",
            "¿Cuantos años tienes\n",
            "->15\n",
            "Mucho gusto juan con 15 años\n"
          ]
        }
      ]
    },
    {
      "cell_type": "markdown",
      "source": [
        "Ciclo"
      ],
      "metadata": {
        "id": "5Bf1SWUUJ8RI"
      }
    },
    {
      "cell_type": "code",
      "source": [
        "repetir=\"si\"\n",
        "while repetir==\"si\":\n",
        "  nom=input(\"¿Como te llamas?\\n->\")\n",
        "  num=int(input(\"¿Cuantos años tienes\\n->\"))\n",
        "  print(\"Mucho gusto\",nom,\"con\",num,\"años\")\n",
        "  repetir=input(\"¿Desea preguntar a otra persona?\\n\")"
      ],
      "metadata": {
        "id": "ObfGmTOIKvdV"
      },
      "execution_count": null,
      "outputs": []
    },
    {
      "cell_type": "markdown",
      "source": [
        "Array"
      ],
      "metadata": {
        "id": "VPDg3kfeOcKK"
      }
    },
    {
      "cell_type": "code",
      "source": [
        "a=[]\n",
        "nom=input(\"¿Como te llamas?\\n->\")\n",
        "a.append(nom)\n",
        "num=int(input(\"¿Cuantos años tienes\\n->\"))\n",
        "a.append(num)\n",
        "print(a)"
      ],
      "metadata": {
        "colab": {
          "base_uri": "https://localhost:8080/"
        },
        "id": "q64uIj7nOe1M",
        "outputId": "ce3f8840-616b-494c-8616-78553c1d043d"
      },
      "execution_count": null,
      "outputs": [
        {
          "output_type": "stream",
          "name": "stdout",
          "text": [
            "¿Como te llamas?\n",
            "->juan\n",
            "¿Cuantos años tienes\n",
            "->15\n",
            "['juan', 15]\n"
          ]
        }
      ]
    }
  ]
}